{
 "cells": [
  {
   "cell_type": "code",
   "execution_count": 483,
   "metadata": {},
   "outputs": [],
   "source": [
    "import pandas as pd\n",
    "import numpy as np\n",
    "import os\n",
    "from sklearn.preprocessing import LabelEncoder\n",
    "import matplotlib.pyplot as plt\n",
    "import seaborn as sns\n",
    "import time"
   ]
  },
  {
   "cell_type": "code",
   "execution_count": 484,
   "metadata": {},
   "outputs": [],
   "source": [
    "from sklearn.model_selection import train_test_split\n",
    "from sklearn.preprocessing import MinMaxScaler"
   ]
  },
  {
   "cell_type": "code",
   "execution_count": 485,
   "metadata": {},
   "outputs": [
    {
     "data": {
      "text/html": [
       "<div>\n",
       "<style scoped>\n",
       "    .dataframe tbody tr th:only-of-type {\n",
       "        vertical-align: middle;\n",
       "    }\n",
       "\n",
       "    .dataframe tbody tr th {\n",
       "        vertical-align: top;\n",
       "    }\n",
       "\n",
       "    .dataframe thead th {\n",
       "        text-align: right;\n",
       "    }\n",
       "</style>\n",
       "<table border=\"1\" class=\"dataframe\">\n",
       "  <thead>\n",
       "    <tr style=\"text-align: right;\">\n",
       "      <th></th>\n",
       "      <th>duration</th>\n",
       "      <th>protocol_type</th>\n",
       "      <th>flag</th>\n",
       "      <th>src_bytes</th>\n",
       "      <th>dst_bytes</th>\n",
       "      <th>land</th>\n",
       "      <th>wrong_fragment</th>\n",
       "      <th>urgent</th>\n",
       "      <th>hot</th>\n",
       "      <th>num_failed_logins</th>\n",
       "      <th>...</th>\n",
       "      <th>same_srv_rate</th>\n",
       "      <th>diff_srv_rate</th>\n",
       "      <th>srv_diff_host_rate</th>\n",
       "      <th>dst_host_count</th>\n",
       "      <th>dst_host_srv_count</th>\n",
       "      <th>dst_host_diff_srv_rate</th>\n",
       "      <th>dst_host_same_src_port_rate</th>\n",
       "      <th>dst_host_srv_diff_host_rate</th>\n",
       "      <th>target</th>\n",
       "      <th>Attack Type</th>\n",
       "    </tr>\n",
       "  </thead>\n",
       "  <tbody>\n",
       "    <tr>\n",
       "      <th>0</th>\n",
       "      <td>0</td>\n",
       "      <td>1</td>\n",
       "      <td>0</td>\n",
       "      <td>181</td>\n",
       "      <td>5450</td>\n",
       "      <td>0</td>\n",
       "      <td>0</td>\n",
       "      <td>0</td>\n",
       "      <td>0</td>\n",
       "      <td>0</td>\n",
       "      <td>...</td>\n",
       "      <td>1.0</td>\n",
       "      <td>0.0</td>\n",
       "      <td>0.0</td>\n",
       "      <td>9</td>\n",
       "      <td>9</td>\n",
       "      <td>0.0</td>\n",
       "      <td>0.11</td>\n",
       "      <td>0.0</td>\n",
       "      <td>normal.</td>\n",
       "      <td>normal</td>\n",
       "    </tr>\n",
       "    <tr>\n",
       "      <th>1</th>\n",
       "      <td>0</td>\n",
       "      <td>1</td>\n",
       "      <td>0</td>\n",
       "      <td>239</td>\n",
       "      <td>486</td>\n",
       "      <td>0</td>\n",
       "      <td>0</td>\n",
       "      <td>0</td>\n",
       "      <td>0</td>\n",
       "      <td>0</td>\n",
       "      <td>...</td>\n",
       "      <td>1.0</td>\n",
       "      <td>0.0</td>\n",
       "      <td>0.0</td>\n",
       "      <td>19</td>\n",
       "      <td>19</td>\n",
       "      <td>0.0</td>\n",
       "      <td>0.05</td>\n",
       "      <td>0.0</td>\n",
       "      <td>normal.</td>\n",
       "      <td>normal</td>\n",
       "    </tr>\n",
       "    <tr>\n",
       "      <th>2</th>\n",
       "      <td>0</td>\n",
       "      <td>1</td>\n",
       "      <td>0</td>\n",
       "      <td>235</td>\n",
       "      <td>1337</td>\n",
       "      <td>0</td>\n",
       "      <td>0</td>\n",
       "      <td>0</td>\n",
       "      <td>0</td>\n",
       "      <td>0</td>\n",
       "      <td>...</td>\n",
       "      <td>1.0</td>\n",
       "      <td>0.0</td>\n",
       "      <td>0.0</td>\n",
       "      <td>29</td>\n",
       "      <td>29</td>\n",
       "      <td>0.0</td>\n",
       "      <td>0.03</td>\n",
       "      <td>0.0</td>\n",
       "      <td>normal.</td>\n",
       "      <td>normal</td>\n",
       "    </tr>\n",
       "    <tr>\n",
       "      <th>3</th>\n",
       "      <td>0</td>\n",
       "      <td>1</td>\n",
       "      <td>0</td>\n",
       "      <td>219</td>\n",
       "      <td>1337</td>\n",
       "      <td>0</td>\n",
       "      <td>0</td>\n",
       "      <td>0</td>\n",
       "      <td>0</td>\n",
       "      <td>0</td>\n",
       "      <td>...</td>\n",
       "      <td>1.0</td>\n",
       "      <td>0.0</td>\n",
       "      <td>0.0</td>\n",
       "      <td>39</td>\n",
       "      <td>39</td>\n",
       "      <td>0.0</td>\n",
       "      <td>0.03</td>\n",
       "      <td>0.0</td>\n",
       "      <td>normal.</td>\n",
       "      <td>normal</td>\n",
       "    </tr>\n",
       "    <tr>\n",
       "      <th>4</th>\n",
       "      <td>0</td>\n",
       "      <td>1</td>\n",
       "      <td>0</td>\n",
       "      <td>217</td>\n",
       "      <td>2032</td>\n",
       "      <td>0</td>\n",
       "      <td>0</td>\n",
       "      <td>0</td>\n",
       "      <td>0</td>\n",
       "      <td>0</td>\n",
       "      <td>...</td>\n",
       "      <td>1.0</td>\n",
       "      <td>0.0</td>\n",
       "      <td>0.0</td>\n",
       "      <td>49</td>\n",
       "      <td>49</td>\n",
       "      <td>0.0</td>\n",
       "      <td>0.02</td>\n",
       "      <td>0.0</td>\n",
       "      <td>normal.</td>\n",
       "      <td>normal</td>\n",
       "    </tr>\n",
       "  </tbody>\n",
       "</table>\n",
       "<p>5 rows × 34 columns</p>\n",
       "</div>"
      ],
      "text/plain": [
       "   duration  protocol_type  flag  src_bytes  dst_bytes  land  wrong_fragment  \\\n",
       "0         0              1     0        181       5450     0               0   \n",
       "1         0              1     0        239        486     0               0   \n",
       "2         0              1     0        235       1337     0               0   \n",
       "3         0              1     0        219       1337     0               0   \n",
       "4         0              1     0        217       2032     0               0   \n",
       "\n",
       "   urgent  hot  num_failed_logins  ...  same_srv_rate  diff_srv_rate  \\\n",
       "0       0    0                  0  ...            1.0            0.0   \n",
       "1       0    0                  0  ...            1.0            0.0   \n",
       "2       0    0                  0  ...            1.0            0.0   \n",
       "3       0    0                  0  ...            1.0            0.0   \n",
       "4       0    0                  0  ...            1.0            0.0   \n",
       "\n",
       "   srv_diff_host_rate  dst_host_count  dst_host_srv_count  \\\n",
       "0                 0.0               9                   9   \n",
       "1                 0.0              19                  19   \n",
       "2                 0.0              29                  29   \n",
       "3                 0.0              39                  39   \n",
       "4                 0.0              49                  49   \n",
       "\n",
       "   dst_host_diff_srv_rate  dst_host_same_src_port_rate  \\\n",
       "0                     0.0                         0.11   \n",
       "1                     0.0                         0.05   \n",
       "2                     0.0                         0.03   \n",
       "3                     0.0                         0.03   \n",
       "4                     0.0                         0.02   \n",
       "\n",
       "   dst_host_srv_diff_host_rate   target  Attack Type  \n",
       "0                          0.0  normal.       normal  \n",
       "1                          0.0  normal.       normal  \n",
       "2                          0.0  normal.       normal  \n",
       "3                          0.0  normal.       normal  \n",
       "4                          0.0  normal.       normal  \n",
       "\n",
       "[5 rows x 34 columns]"
      ]
     },
     "execution_count": 485,
     "metadata": {},
     "output_type": "execute_result"
    }
   ],
   "source": [
    "# Load the CSV file into a DataFrame\n",
    "df = pd.read_csv('preprocessed_data.csv')\n",
    "df.head()"
   ]
  },
  {
   "cell_type": "code",
   "execution_count": 486,
   "metadata": {},
   "outputs": [
    {
     "data": {
      "text/plain": [
       "array(['normal.', 'buffer_overflow.', 'loadmodule.', 'perl.', 'neptune.',\n",
       "       'smurf.', 'guess_passwd.', 'pod.', 'teardrop.', 'portsweep.',\n",
       "       'ipsweep.', 'land.', 'ftp_write.', 'back.', 'imap.', 'satan.',\n",
       "       'phf.', 'nmap.', 'multihop.', 'warezmaster.', 'warezclient.',\n",
       "       'spy.', 'rootkit.'], dtype=object)"
      ]
     },
     "execution_count": 486,
     "metadata": {},
     "output_type": "execute_result"
    }
   ],
   "source": [
    "df['target'].unique()"
   ]
  },
  {
   "cell_type": "code",
   "execution_count": 487,
   "metadata": {},
   "outputs": [
    {
     "data": {
      "text/html": [
       "<div>\n",
       "<style scoped>\n",
       "    .dataframe tbody tr th:only-of-type {\n",
       "        vertical-align: middle;\n",
       "    }\n",
       "\n",
       "    .dataframe tbody tr th {\n",
       "        vertical-align: top;\n",
       "    }\n",
       "\n",
       "    .dataframe thead th {\n",
       "        text-align: right;\n",
       "    }\n",
       "</style>\n",
       "<table border=\"1\" class=\"dataframe\">\n",
       "  <thead>\n",
       "    <tr style=\"text-align: right;\">\n",
       "      <th></th>\n",
       "      <th>hot</th>\n",
       "      <th>is_guest_login</th>\n",
       "      <th>count</th>\n",
       "      <th>srv_count</th>\n",
       "      <th>same_srv_rate</th>\n",
       "      <th>dst_host_srv_count</th>\n",
       "      <th>dst_host_same_src_port_rate</th>\n",
       "    </tr>\n",
       "  </thead>\n",
       "  <tbody>\n",
       "    <tr>\n",
       "      <th>hot</th>\n",
       "      <td>NaN</td>\n",
       "      <td>0.843572</td>\n",
       "      <td>NaN</td>\n",
       "      <td>NaN</td>\n",
       "      <td>NaN</td>\n",
       "      <td>NaN</td>\n",
       "      <td>NaN</td>\n",
       "    </tr>\n",
       "    <tr>\n",
       "      <th>is_guest_login</th>\n",
       "      <td>0.843572</td>\n",
       "      <td>NaN</td>\n",
       "      <td>NaN</td>\n",
       "      <td>NaN</td>\n",
       "      <td>NaN</td>\n",
       "      <td>NaN</td>\n",
       "      <td>NaN</td>\n",
       "    </tr>\n",
       "    <tr>\n",
       "      <th>count</th>\n",
       "      <td>NaN</td>\n",
       "      <td>NaN</td>\n",
       "      <td>NaN</td>\n",
       "      <td>0.943667</td>\n",
       "      <td>NaN</td>\n",
       "      <td>NaN</td>\n",
       "      <td>0.860579</td>\n",
       "    </tr>\n",
       "    <tr>\n",
       "      <th>srv_count</th>\n",
       "      <td>NaN</td>\n",
       "      <td>NaN</td>\n",
       "      <td>0.943667</td>\n",
       "      <td>NaN</td>\n",
       "      <td>NaN</td>\n",
       "      <td>NaN</td>\n",
       "      <td>0.944926</td>\n",
       "    </tr>\n",
       "    <tr>\n",
       "      <th>same_srv_rate</th>\n",
       "      <td>NaN</td>\n",
       "      <td>NaN</td>\n",
       "      <td>NaN</td>\n",
       "      <td>NaN</td>\n",
       "      <td>NaN</td>\n",
       "      <td>0.898955</td>\n",
       "      <td>NaN</td>\n",
       "    </tr>\n",
       "    <tr>\n",
       "      <th>dst_host_srv_count</th>\n",
       "      <td>NaN</td>\n",
       "      <td>NaN</td>\n",
       "      <td>NaN</td>\n",
       "      <td>NaN</td>\n",
       "      <td>0.898955</td>\n",
       "      <td>NaN</td>\n",
       "      <td>NaN</td>\n",
       "    </tr>\n",
       "    <tr>\n",
       "      <th>dst_host_same_src_port_rate</th>\n",
       "      <td>NaN</td>\n",
       "      <td>NaN</td>\n",
       "      <td>0.860579</td>\n",
       "      <td>0.944926</td>\n",
       "      <td>NaN</td>\n",
       "      <td>NaN</td>\n",
       "      <td>NaN</td>\n",
       "    </tr>\n",
       "  </tbody>\n",
       "</table>\n",
       "</div>"
      ],
      "text/plain": [
       "                                  hot  is_guest_login     count  srv_count  \\\n",
       "hot                               NaN        0.843572       NaN        NaN   \n",
       "is_guest_login               0.843572             NaN       NaN        NaN   \n",
       "count                             NaN             NaN       NaN   0.943667   \n",
       "srv_count                         NaN             NaN  0.943667        NaN   \n",
       "same_srv_rate                     NaN             NaN       NaN        NaN   \n",
       "dst_host_srv_count                NaN             NaN       NaN        NaN   \n",
       "dst_host_same_src_port_rate       NaN             NaN  0.860579   0.944926   \n",
       "\n",
       "                             same_srv_rate  dst_host_srv_count  \\\n",
       "hot                                    NaN                 NaN   \n",
       "is_guest_login                         NaN                 NaN   \n",
       "count                                  NaN                 NaN   \n",
       "srv_count                              NaN                 NaN   \n",
       "same_srv_rate                          NaN            0.898955   \n",
       "dst_host_srv_count                0.898955                 NaN   \n",
       "dst_host_same_src_port_rate            NaN                 NaN   \n",
       "\n",
       "                             dst_host_same_src_port_rate  \n",
       "hot                                                  NaN  \n",
       "is_guest_login                                       NaN  \n",
       "count                                           0.860579  \n",
       "srv_count                                       0.944926  \n",
       "same_srv_rate                                        NaN  \n",
       "dst_host_srv_count                                   NaN  \n",
       "dst_host_same_src_port_rate                          NaN  "
      ]
     },
     "execution_count": 487,
     "metadata": {},
     "output_type": "execute_result"
    }
   ],
   "source": [
    "corr_matrix = df.iloc[:, :-2].corr()\n",
    "\n",
    "# Filter the correlation matrix to show only values greater than 0.8\n",
    "high_corr = corr_matrix[corr_matrix > 0.8]\n",
    "\n",
    "# Remove self-correlation (correlation of a column with itself) by setting diagonal values to NaN\n",
    "for i in range(len(high_corr)):\n",
    "    high_corr.iat[i, i] = None\n",
    "\n",
    "# Drop rows and columns where there are no values > 0.8\n",
    "high_corr_filtered = high_corr.dropna(how='all').dropna(axis=1, how='all')\n",
    "\n",
    "# Display the columns with correlation > 0.8\n",
    "high_corr_filtered"
   ]
  },
  {
   "cell_type": "code",
   "execution_count": 488,
   "metadata": {},
   "outputs": [],
   "source": [
    "df.drop(['is_guest_login','srv_count','dst_host_srv_count'],axis=1,inplace=True)\n",
    "df.reset_index(drop=True,inplace=True)"
   ]
  },
  {
   "cell_type": "code",
   "execution_count": 489,
   "metadata": {},
   "outputs": [
    {
     "data": {
      "text/plain": [
       "Attack Type\n",
       "dos       391458\n",
       "normal     97278\n",
       "probe       4107\n",
       "r2l         1126\n",
       "u2r           52\n",
       "Name: count, dtype: int64"
      ]
     },
     "execution_count": 489,
     "metadata": {},
     "output_type": "execute_result"
    }
   ],
   "source": [
    "df['Attack Type'].value_counts()"
   ]
  },
  {
   "cell_type": "code",
   "execution_count": 490,
   "metadata": {},
   "outputs": [
    {
     "data": {
      "text/plain": [
       "0"
      ]
     },
     "execution_count": 490,
     "metadata": {},
     "output_type": "execute_result"
    }
   ],
   "source": [
    "df.isnull().sum().sum()"
   ]
  },
  {
   "cell_type": "code",
   "execution_count": 491,
   "metadata": {},
   "outputs": [
    {
     "name": "stdout",
     "output_type": "stream",
     "text": [
      "Attack Type\n",
      "dos       391458\n",
      "normal    391458\n",
      "probe     391458\n",
      "r2l       391458\n",
      "u2r       391458\n",
      "Name: count, dtype: int64\n"
     ]
    }
   ],
   "source": [
    " #Checking for data imbalance\n",
    "from sklearn.utils import resample\n",
    "\n",
    "# Separate majority and minority classes\n",
    "data_majority = df[df['Attack Type'] == 'dos']\n",
    "data_minority_5 = df[df['Attack Type'] == 'normal']\n",
    "data_minority_2 = df[df['Attack Type'] == 'probe']\n",
    "data_minority_3 = df[df['Attack Type'] == 'r2l']\n",
    "data_minority_4 = df[df['Attack Type'] == 'u2r']\n",
    "\n",
    "data_minority_5_upsampled = resample(data_minority_5,replace=True,n_samples=len(data_majority),random_state=42)\n",
    "data_minority_2_upsampled = resample(data_minority_2,replace=True,n_samples=len(data_majority), random_state=42)\n",
    "data_minority_3_upsampled = resample(data_minority_3,replace=True,n_samples=len(data_majority), random_state=42)\n",
    "data_minority_4_upsampled = resample(data_minority_4,replace=True,n_samples=len(data_majority), random_state=42)\n",
    "\n",
    "\n",
    "data_balanced = pd.concat([data_majority,data_minority_5_upsampled,data_minority_2_upsampled,data_minority_3_upsampled,data_minority_4_upsampled])\n",
    "#print(data_balanced)\n",
    "\n",
    "print(data_balanced['Attack Type'].value_counts())"
   ]
  },
  {
   "cell_type": "code",
   "execution_count": 492,
   "metadata": {},
   "outputs": [
    {
     "data": {
      "text/plain": [
       "0"
      ]
     },
     "execution_count": 492,
     "metadata": {},
     "output_type": "execute_result"
    }
   ],
   "source": [
    "df['Attack Type'].isnull().sum()"
   ]
  },
  {
   "cell_type": "code",
   "execution_count": 493,
   "metadata": {},
   "outputs": [
    {
     "name": "stdout",
     "output_type": "stream",
     "text": [
      "Encoded labels: [11  1  7 12  9 18  3 14 20 15  5  6  2  0  4 17 13 10  8 22 21 19 16]\n",
      "Training data shape: (330994, 29) (330994,)\n",
      "Test data shape: (163027, 29) (163027,)\n"
     ]
    }
   ],
   "source": [
    "df['Combined'] = df['target'].astype(str) + \"_\" + df['Attack Type'].astype(str)\n",
    "\n",
    "# Initialize the Label Encoder\n",
    "label = LabelEncoder()\n",
    "\n",
    "# Encode the combined labels\n",
    "df['Encoded'] = label.fit_transform(df['Combined'])\n",
    "\n",
    "# Check the encoded labels\n",
    "print(\"Encoded labels:\", df['Encoded'].unique())\n",
    "\n",
    "# Prepare features (X) and target variable (y)\n",
    "X = df.drop(['target', 'Attack Type', 'Combined', 'Encoded'], axis=1)  # Drop the original and combined columns\n",
    "y = df['Encoded']  # Use the encoded column as the target variable\n",
    "\n",
    "# Scale features\n",
    "sc = MinMaxScaler()\n",
    "X = sc.fit_transform(X)\n",
    "\n",
    "# Split test and train data \n",
    "X_train, X_test, y_train, y_test = train_test_split(X, y, test_size=0.33, random_state=42)\n",
    "print(\"Training data shape:\", X_train.shape, y_train.shape)\n",
    "print(\"Test data shape:\", X_test.shape, y_test.shape)"
   ]
  },
  {
   "cell_type": "code",
   "execution_count": 494,
   "metadata": {},
   "outputs": [
    {
     "data": {
      "text/plain": [
       "array(['normal', 'u2r', 'dos', 'r2l', 'probe'], dtype=object)"
      ]
     },
     "execution_count": 494,
     "metadata": {},
     "output_type": "execute_result"
    }
   ],
   "source": [
    "df['Attack Type'].unique()"
   ]
  },
  {
   "cell_type": "code",
   "execution_count": 495,
   "metadata": {},
   "outputs": [
    {
     "name": "stdout",
     "output_type": "stream",
     "text": [
      "Mapping of encoded values to original values: {0: 'back._dos', 1: 'buffer_overflow._u2r', 2: 'ftp_write._r2l', 3: 'guess_passwd._r2l', 4: 'imap._r2l', 5: 'ipsweep._probe', 6: 'land._dos', 7: 'loadmodule._u2r', 8: 'multihop._r2l', 9: 'neptune._dos', 10: 'nmap._probe', 11: 'normal._normal', 12: 'perl._u2r', 13: 'phf._r2l', 14: 'pod._dos', 15: 'portsweep._probe', 16: 'rootkit._u2r', 17: 'satan._probe', 18: 'smurf._dos', 19: 'spy._r2l', 20: 'teardrop._dos', 21: 'warezclient._r2l', 22: 'warezmaster._r2l'}\n"
     ]
    }
   ],
   "source": [
    "# Get all mappings\n",
    "attack_mapping = {index: name for index, name in enumerate(label.classes_)}\n",
    "print(\"Mapping of encoded values to original values:\", attack_mapping)"
   ]
  },
  {
   "cell_type": "code",
   "execution_count": 496,
   "metadata": {},
   "outputs": [
    {
     "data": {
      "text/html": [
       "<div>\n",
       "<style scoped>\n",
       "    .dataframe tbody tr th:only-of-type {\n",
       "        vertical-align: middle;\n",
       "    }\n",
       "\n",
       "    .dataframe tbody tr th {\n",
       "        vertical-align: top;\n",
       "    }\n",
       "\n",
       "    .dataframe thead th {\n",
       "        text-align: right;\n",
       "    }\n",
       "</style>\n",
       "<table border=\"1\" class=\"dataframe\">\n",
       "  <thead>\n",
       "    <tr style=\"text-align: right;\">\n",
       "      <th></th>\n",
       "      <th>duration</th>\n",
       "      <th>protocol_type</th>\n",
       "      <th>flag</th>\n",
       "      <th>src_bytes</th>\n",
       "      <th>dst_bytes</th>\n",
       "      <th>land</th>\n",
       "      <th>wrong_fragment</th>\n",
       "      <th>urgent</th>\n",
       "      <th>hot</th>\n",
       "      <th>num_failed_logins</th>\n",
       "      <th>...</th>\n",
       "      <th>diff_srv_rate</th>\n",
       "      <th>srv_diff_host_rate</th>\n",
       "      <th>dst_host_count</th>\n",
       "      <th>dst_host_diff_srv_rate</th>\n",
       "      <th>dst_host_same_src_port_rate</th>\n",
       "      <th>dst_host_srv_diff_host_rate</th>\n",
       "      <th>target</th>\n",
       "      <th>Attack Type</th>\n",
       "      <th>Combined</th>\n",
       "      <th>Encoded</th>\n",
       "    </tr>\n",
       "  </thead>\n",
       "  <tbody>\n",
       "    <tr>\n",
       "      <th>0</th>\n",
       "      <td>0</td>\n",
       "      <td>1</td>\n",
       "      <td>0</td>\n",
       "      <td>181</td>\n",
       "      <td>5450</td>\n",
       "      <td>0</td>\n",
       "      <td>0</td>\n",
       "      <td>0</td>\n",
       "      <td>0</td>\n",
       "      <td>0</td>\n",
       "      <td>...</td>\n",
       "      <td>0.0</td>\n",
       "      <td>0.00</td>\n",
       "      <td>9</td>\n",
       "      <td>0.0</td>\n",
       "      <td>0.11</td>\n",
       "      <td>0.00</td>\n",
       "      <td>normal.</td>\n",
       "      <td>normal</td>\n",
       "      <td>normal._normal</td>\n",
       "      <td>11</td>\n",
       "    </tr>\n",
       "    <tr>\n",
       "      <th>1</th>\n",
       "      <td>0</td>\n",
       "      <td>1</td>\n",
       "      <td>0</td>\n",
       "      <td>239</td>\n",
       "      <td>486</td>\n",
       "      <td>0</td>\n",
       "      <td>0</td>\n",
       "      <td>0</td>\n",
       "      <td>0</td>\n",
       "      <td>0</td>\n",
       "      <td>...</td>\n",
       "      <td>0.0</td>\n",
       "      <td>0.00</td>\n",
       "      <td>19</td>\n",
       "      <td>0.0</td>\n",
       "      <td>0.05</td>\n",
       "      <td>0.00</td>\n",
       "      <td>normal.</td>\n",
       "      <td>normal</td>\n",
       "      <td>normal._normal</td>\n",
       "      <td>11</td>\n",
       "    </tr>\n",
       "    <tr>\n",
       "      <th>2</th>\n",
       "      <td>0</td>\n",
       "      <td>1</td>\n",
       "      <td>0</td>\n",
       "      <td>235</td>\n",
       "      <td>1337</td>\n",
       "      <td>0</td>\n",
       "      <td>0</td>\n",
       "      <td>0</td>\n",
       "      <td>0</td>\n",
       "      <td>0</td>\n",
       "      <td>...</td>\n",
       "      <td>0.0</td>\n",
       "      <td>0.00</td>\n",
       "      <td>29</td>\n",
       "      <td>0.0</td>\n",
       "      <td>0.03</td>\n",
       "      <td>0.00</td>\n",
       "      <td>normal.</td>\n",
       "      <td>normal</td>\n",
       "      <td>normal._normal</td>\n",
       "      <td>11</td>\n",
       "    </tr>\n",
       "    <tr>\n",
       "      <th>3</th>\n",
       "      <td>0</td>\n",
       "      <td>1</td>\n",
       "      <td>0</td>\n",
       "      <td>219</td>\n",
       "      <td>1337</td>\n",
       "      <td>0</td>\n",
       "      <td>0</td>\n",
       "      <td>0</td>\n",
       "      <td>0</td>\n",
       "      <td>0</td>\n",
       "      <td>...</td>\n",
       "      <td>0.0</td>\n",
       "      <td>0.00</td>\n",
       "      <td>39</td>\n",
       "      <td>0.0</td>\n",
       "      <td>0.03</td>\n",
       "      <td>0.00</td>\n",
       "      <td>normal.</td>\n",
       "      <td>normal</td>\n",
       "      <td>normal._normal</td>\n",
       "      <td>11</td>\n",
       "    </tr>\n",
       "    <tr>\n",
       "      <th>4</th>\n",
       "      <td>0</td>\n",
       "      <td>1</td>\n",
       "      <td>0</td>\n",
       "      <td>217</td>\n",
       "      <td>2032</td>\n",
       "      <td>0</td>\n",
       "      <td>0</td>\n",
       "      <td>0</td>\n",
       "      <td>0</td>\n",
       "      <td>0</td>\n",
       "      <td>...</td>\n",
       "      <td>0.0</td>\n",
       "      <td>0.00</td>\n",
       "      <td>49</td>\n",
       "      <td>0.0</td>\n",
       "      <td>0.02</td>\n",
       "      <td>0.00</td>\n",
       "      <td>normal.</td>\n",
       "      <td>normal</td>\n",
       "      <td>normal._normal</td>\n",
       "      <td>11</td>\n",
       "    </tr>\n",
       "    <tr>\n",
       "      <th>...</th>\n",
       "      <td>...</td>\n",
       "      <td>...</td>\n",
       "      <td>...</td>\n",
       "      <td>...</td>\n",
       "      <td>...</td>\n",
       "      <td>...</td>\n",
       "      <td>...</td>\n",
       "      <td>...</td>\n",
       "      <td>...</td>\n",
       "      <td>...</td>\n",
       "      <td>...</td>\n",
       "      <td>...</td>\n",
       "      <td>...</td>\n",
       "      <td>...</td>\n",
       "      <td>...</td>\n",
       "      <td>...</td>\n",
       "      <td>...</td>\n",
       "      <td>...</td>\n",
       "      <td>...</td>\n",
       "      <td>...</td>\n",
       "      <td>...</td>\n",
       "    </tr>\n",
       "    <tr>\n",
       "      <th>494016</th>\n",
       "      <td>0</td>\n",
       "      <td>1</td>\n",
       "      <td>0</td>\n",
       "      <td>310</td>\n",
       "      <td>1881</td>\n",
       "      <td>0</td>\n",
       "      <td>0</td>\n",
       "      <td>0</td>\n",
       "      <td>0</td>\n",
       "      <td>0</td>\n",
       "      <td>...</td>\n",
       "      <td>0.0</td>\n",
       "      <td>0.40</td>\n",
       "      <td>86</td>\n",
       "      <td>0.0</td>\n",
       "      <td>0.01</td>\n",
       "      <td>0.05</td>\n",
       "      <td>normal.</td>\n",
       "      <td>normal</td>\n",
       "      <td>normal._normal</td>\n",
       "      <td>11</td>\n",
       "    </tr>\n",
       "    <tr>\n",
       "      <th>494017</th>\n",
       "      <td>0</td>\n",
       "      <td>1</td>\n",
       "      <td>0</td>\n",
       "      <td>282</td>\n",
       "      <td>2286</td>\n",
       "      <td>0</td>\n",
       "      <td>0</td>\n",
       "      <td>0</td>\n",
       "      <td>0</td>\n",
       "      <td>0</td>\n",
       "      <td>...</td>\n",
       "      <td>0.0</td>\n",
       "      <td>0.00</td>\n",
       "      <td>6</td>\n",
       "      <td>0.0</td>\n",
       "      <td>0.17</td>\n",
       "      <td>0.05</td>\n",
       "      <td>normal.</td>\n",
       "      <td>normal</td>\n",
       "      <td>normal._normal</td>\n",
       "      <td>11</td>\n",
       "    </tr>\n",
       "    <tr>\n",
       "      <th>494018</th>\n",
       "      <td>0</td>\n",
       "      <td>1</td>\n",
       "      <td>0</td>\n",
       "      <td>203</td>\n",
       "      <td>1200</td>\n",
       "      <td>0</td>\n",
       "      <td>0</td>\n",
       "      <td>0</td>\n",
       "      <td>0</td>\n",
       "      <td>0</td>\n",
       "      <td>...</td>\n",
       "      <td>0.0</td>\n",
       "      <td>0.17</td>\n",
       "      <td>16</td>\n",
       "      <td>0.0</td>\n",
       "      <td>0.06</td>\n",
       "      <td>0.05</td>\n",
       "      <td>normal.</td>\n",
       "      <td>normal</td>\n",
       "      <td>normal._normal</td>\n",
       "      <td>11</td>\n",
       "    </tr>\n",
       "    <tr>\n",
       "      <th>494019</th>\n",
       "      <td>0</td>\n",
       "      <td>1</td>\n",
       "      <td>0</td>\n",
       "      <td>291</td>\n",
       "      <td>1200</td>\n",
       "      <td>0</td>\n",
       "      <td>0</td>\n",
       "      <td>0</td>\n",
       "      <td>0</td>\n",
       "      <td>0</td>\n",
       "      <td>...</td>\n",
       "      <td>0.0</td>\n",
       "      <td>0.17</td>\n",
       "      <td>26</td>\n",
       "      <td>0.0</td>\n",
       "      <td>0.04</td>\n",
       "      <td>0.05</td>\n",
       "      <td>normal.</td>\n",
       "      <td>normal</td>\n",
       "      <td>normal._normal</td>\n",
       "      <td>11</td>\n",
       "    </tr>\n",
       "    <tr>\n",
       "      <th>494020</th>\n",
       "      <td>0</td>\n",
       "      <td>1</td>\n",
       "      <td>0</td>\n",
       "      <td>219</td>\n",
       "      <td>1234</td>\n",
       "      <td>0</td>\n",
       "      <td>0</td>\n",
       "      <td>0</td>\n",
       "      <td>0</td>\n",
       "      <td>0</td>\n",
       "      <td>...</td>\n",
       "      <td>0.0</td>\n",
       "      <td>0.14</td>\n",
       "      <td>6</td>\n",
       "      <td>0.0</td>\n",
       "      <td>0.17</td>\n",
       "      <td>0.05</td>\n",
       "      <td>normal.</td>\n",
       "      <td>normal</td>\n",
       "      <td>normal._normal</td>\n",
       "      <td>11</td>\n",
       "    </tr>\n",
       "  </tbody>\n",
       "</table>\n",
       "<p>494021 rows × 33 columns</p>\n",
       "</div>"
      ],
      "text/plain": [
       "        duration  protocol_type  flag  src_bytes  dst_bytes  land  \\\n",
       "0              0              1     0        181       5450     0   \n",
       "1              0              1     0        239        486     0   \n",
       "2              0              1     0        235       1337     0   \n",
       "3              0              1     0        219       1337     0   \n",
       "4              0              1     0        217       2032     0   \n",
       "...          ...            ...   ...        ...        ...   ...   \n",
       "494016         0              1     0        310       1881     0   \n",
       "494017         0              1     0        282       2286     0   \n",
       "494018         0              1     0        203       1200     0   \n",
       "494019         0              1     0        291       1200     0   \n",
       "494020         0              1     0        219       1234     0   \n",
       "\n",
       "        wrong_fragment  urgent  hot  num_failed_logins  ...  diff_srv_rate  \\\n",
       "0                    0       0    0                  0  ...            0.0   \n",
       "1                    0       0    0                  0  ...            0.0   \n",
       "2                    0       0    0                  0  ...            0.0   \n",
       "3                    0       0    0                  0  ...            0.0   \n",
       "4                    0       0    0                  0  ...            0.0   \n",
       "...                ...     ...  ...                ...  ...            ...   \n",
       "494016               0       0    0                  0  ...            0.0   \n",
       "494017               0       0    0                  0  ...            0.0   \n",
       "494018               0       0    0                  0  ...            0.0   \n",
       "494019               0       0    0                  0  ...            0.0   \n",
       "494020               0       0    0                  0  ...            0.0   \n",
       "\n",
       "        srv_diff_host_rate  dst_host_count  dst_host_diff_srv_rate  \\\n",
       "0                     0.00               9                     0.0   \n",
       "1                     0.00              19                     0.0   \n",
       "2                     0.00              29                     0.0   \n",
       "3                     0.00              39                     0.0   \n",
       "4                     0.00              49                     0.0   \n",
       "...                    ...             ...                     ...   \n",
       "494016                0.40              86                     0.0   \n",
       "494017                0.00               6                     0.0   \n",
       "494018                0.17              16                     0.0   \n",
       "494019                0.17              26                     0.0   \n",
       "494020                0.14               6                     0.0   \n",
       "\n",
       "        dst_host_same_src_port_rate  dst_host_srv_diff_host_rate   target  \\\n",
       "0                              0.11                         0.00  normal.   \n",
       "1                              0.05                         0.00  normal.   \n",
       "2                              0.03                         0.00  normal.   \n",
       "3                              0.03                         0.00  normal.   \n",
       "4                              0.02                         0.00  normal.   \n",
       "...                             ...                          ...      ...   \n",
       "494016                         0.01                         0.05  normal.   \n",
       "494017                         0.17                         0.05  normal.   \n",
       "494018                         0.06                         0.05  normal.   \n",
       "494019                         0.04                         0.05  normal.   \n",
       "494020                         0.17                         0.05  normal.   \n",
       "\n",
       "        Attack Type        Combined  Encoded  \n",
       "0            normal  normal._normal       11  \n",
       "1            normal  normal._normal       11  \n",
       "2            normal  normal._normal       11  \n",
       "3            normal  normal._normal       11  \n",
       "4            normal  normal._normal       11  \n",
       "...             ...             ...      ...  \n",
       "494016       normal  normal._normal       11  \n",
       "494017       normal  normal._normal       11  \n",
       "494018       normal  normal._normal       11  \n",
       "494019       normal  normal._normal       11  \n",
       "494020       normal  normal._normal       11  \n",
       "\n",
       "[494021 rows x 33 columns]"
      ]
     },
     "execution_count": 496,
     "metadata": {},
     "output_type": "execute_result"
    }
   ],
   "source": [
    "df"
   ]
  },
  {
   "cell_type": "code",
   "execution_count": 497,
   "metadata": {},
   "outputs": [],
   "source": [
    "def calculate_tp_tn_fp_fn(confusion_matrix):\n",
    "    \"\"\"\n",
    "    Function to calculate True Positives (TP), True Negatives (TN),\n",
    "    False Positives (FP), and False Negatives (FN) from a given confusion matrix.\n",
    "\n",
    "    Args:\n",
    "    confusion_matrix (numpy.ndarray): The confusion matrix (multiclass)\n",
    "\n",
    "    Returns:\n",
    "    dict: A dictionary containing TP, TN, FP, and FN values\n",
    "    \"\"\"\n",
    "    # True Negatives (TN): Normal correctly classified as Normal (Class 0 classified as Class 0)\n",
    "    TN = confusion_matrix[0, 0]\n",
    "\n",
    "    # False Positives (FP): Normal misclassified as any Attack (Class 0 misclassified as Class 1-4)\n",
    "    FP = confusion_matrix[0, 1:].sum()\n",
    "\n",
    "    # True Positives (TP): Attack correctly classified as Attack (Class 1-4 classified as Class 1-4)\n",
    "    TP = confusion_matrix[1:, 1:].sum()\n",
    "\n",
    "    # False Negatives (FN): Attack misclassified as Normal (Class 1-4 misclassified as Class 0)\n",
    "    FN = confusion_matrix[1:, 0].sum()\n",
    "\n",
    "    return {\n",
    "        'True Positives (TP)': TP,\n",
    "        'True Negatives (TN)': TN,\n",
    "        'False Positives (FP)': FP,\n",
    "        'False Negatives (FN)': FN\n",
    "    }"
   ]
  },
  {
   "cell_type": "code",
   "execution_count": 498,
   "metadata": {},
   "outputs": [],
   "source": [
    "# Gaussian Naive Bayes\n",
    "from sklearn.naive_bayes import GaussianNB\n",
    "from sklearn.metrics import accuracy_score\n",
    "from sklearn.metrics import confusion_matrix, precision_score, accuracy_score, recall_score, f1_score"
   ]
  },
  {
   "cell_type": "code",
   "execution_count": 499,
   "metadata": {},
   "outputs": [],
   "source": [
    "clfb = GaussianNB()\n",
    "start_time_train= time.time()"
   ]
  },
  {
   "cell_type": "code",
   "execution_count": 500,
   "metadata": {},
   "outputs": [],
   "source": [
    "clfb.fit(X_train, y_train)\n",
    "end_time_train= time.time()"
   ]
  },
  {
   "cell_type": "code",
   "execution_count": 501,
   "metadata": {},
   "outputs": [
    {
     "name": "stdout",
     "output_type": "stream",
     "text": [
      "Training time: 0.6181 seconds\n"
     ]
    }
   ],
   "source": [
    "print(f\"Training time: {end_time_train - start_time_train:.4f} seconds\")"
   ]
  },
  {
   "cell_type": "code",
   "execution_count": 502,
   "metadata": {},
   "outputs": [],
   "source": [
    "start_time_pred_train= time.time()\n",
    "y_train_pred=clfb.predict(X_train)\n",
    "end_time_pred_train= time.time()"
   ]
  },
  {
   "cell_type": "code",
   "execution_count": 503,
   "metadata": {},
   "outputs": [],
   "source": [
    "start_time_pred_test = time.time()\n",
    "y_test_pred = clfb.predict(X_test)\n",
    "end_time_pred_test = time.time()"
   ]
  },
  {
   "cell_type": "code",
   "execution_count": 504,
   "metadata": {},
   "outputs": [
    {
     "name": "stdout",
     "output_type": "stream",
     "text": [
      "Prediction time on test data: 2.1244 seconds\n"
     ]
    }
   ],
   "source": [
    "print(f\"Prediction time on test data: {end_time_pred_test - start_time_pred_test:.4f} seconds\")\n"
   ]
  },
  {
   "cell_type": "code",
   "execution_count": 505,
   "metadata": {},
   "outputs": [
    {
     "name": "stdout",
     "output_type": "stream",
     "text": [
      "Train score is: 0.8569460473603752\n",
      "Test score is: 0.8567660571561766\n"
     ]
    }
   ],
   "source": [
    "print(\"Train score is:\", clfb.score(X_train, y_train))\n",
    "print(\"Test score is:\",clfb.score(X_test,y_test))"
   ]
  },
  {
   "cell_type": "code",
   "execution_count": 506,
   "metadata": {},
   "outputs": [
    {
     "name": "stderr",
     "output_type": "stream",
     "text": [
      "C:\\Users\\sreev\\AppData\\Local\\Packages\\PythonSoftwareFoundation.Python.3.11_qbz5n2kfra8p0\\LocalCache\\local-packages\\Python311\\site-packages\\sklearn\\metrics\\_classification.py:1531: UndefinedMetricWarning: Precision is ill-defined and being set to 0.0 in labels with no predicted samples. Use `zero_division` parameter to control this behavior.\n",
      "  _warn_prf(average, modifier, f\"{metric.capitalize()} is\", len(result))\n"
     ]
    },
    {
     "name": "stdout",
     "output_type": "stream",
     "text": [
      "Precision: 0.991411704410934\n",
      "Accuracy: 0.8567660571561766\n",
      "Recall: 0.8567660571561766\n",
      "F1 Score: 0.8849105459621383\n",
      "{'True Positives (TP)': 162261, 'True Negatives (TN)': 716, 'False Positives (FP)': 6, 'False Negatives (FN)': 44}\n"
     ]
    }
   ],
   "source": [
    "\n",
    "\n",
    "# Calculate metrics\n",
    "precision_gaus = precision_score(y_test, y_test_pred, average='weighted')\n",
    "accuracy_gaus= accuracy_score(y_test, y_test_pred)\n",
    "recall_gaus= recall_score(y_test, y_test_pred, average='weighted')\n",
    "f1_gaus= f1_score(y_test, y_test_pred, average='weighted')\n",
    "cm_gaus= confusion_matrix(y_test, y_test_pred)\n",
    "r=calculate_tp_tn_fp_fn(cm_gaus)\n",
    "\n",
    "# Display results\n",
    "print(f\"Precision: {precision_gaus}\")\n",
    "print(f\"Accuracy: {accuracy_gaus}\")\n",
    "print(f\"Recall: {recall_gaus}\")\n",
    "print(f\"F1 Score: {f1_gaus}\")\n",
    "#print(f\"Confusion Matrix:\\n{cm_gaus}\")\n",
    "print(r)"
   ]
  },
  {
   "cell_type": "code",
   "execution_count": 507,
   "metadata": {},
   "outputs": [
    {
     "name": "stdout",
     "output_type": "stream",
     "text": [
      "Training time:  1.435743808746338\n",
      "Train score is: 0.9870209127657903\n",
      "Test score is: 0.9864378293166163\n",
      "Precision: 0.9792226975685764\n",
      "Accuracy: 0.9864378293166163\n",
      "Recall: 0.9864378293166163\n",
      "F1 Score: 0.9815385800393719\n",
      "{'True Positives (TP)': 162288, 'True Negatives (TN)': 720, 'False Positives (FP)': 2, 'False Negatives (FN)': 17}\n"
     ]
    },
    {
     "name": "stderr",
     "output_type": "stream",
     "text": [
      "C:\\Users\\sreev\\AppData\\Local\\Packages\\PythonSoftwareFoundation.Python.3.11_qbz5n2kfra8p0\\LocalCache\\local-packages\\Python311\\site-packages\\sklearn\\metrics\\_classification.py:1531: UndefinedMetricWarning: Precision is ill-defined and being set to 0.0 in labels with no predicted samples. Use `zero_division` parameter to control this behavior.\n",
      "  _warn_prf(average, modifier, f\"{metric.capitalize()} is\", len(result))\n"
     ]
    }
   ],
   "source": [
    "# Decision Tree Classifier\n",
    "from sklearn.tree import DecisionTreeClassifier\n",
    "\n",
    "# Initialize the model\n",
    "clfd = DecisionTreeClassifier(criterion=\"entropy\", max_depth=4)\n",
    "\n",
    "# Train the model\n",
    "start_time = time.time()\n",
    "clfd.fit(X_train, y_train)\n",
    "end_time = time.time()\n",
    "print(\"Training time: \", end_time - start_time)\n",
    "\n",
    "# Predict using the training data\n",
    "y_train_pred = clfd.predict(X_train)\n",
    "\n",
    "# Predict using the test data\n",
    "y_test_pred = clfd.predict(X_test)\n",
    "\n",
    "#Calculate and display metrics for training and testing\n",
    "train_accuracy = clfd.score(X_train, y_train)\n",
    "test_accuracy = clfd.score(X_test, y_test)\n",
    "print(\"Train score is:\", train_accuracy)\n",
    "print(\"Test score is:\", test_accuracy)\n",
    "\n",
    "# Calculate metrics\n",
    "precision_dec = precision_score(y_test, y_test_pred, average='weighted')\n",
    "accuracy_dec = accuracy_score(y_test, y_test_pred)\n",
    "recall_dec = recall_score(y_test, y_test_pred, average='weighted')\n",
    "f1_dec = f1_score(y_test, y_test_pred, average='weighted')\n",
    "cm_dec = confusion_matrix(y_test, y_test_pred)\n",
    "r = calculate_tp_tn_fp_fn(cm_dec)\n",
    "\n",
    "# Display results\n",
    "print(f\"Precision: {precision_dec}\")\n",
    "print(f\"Accuracy: {accuracy_dec}\")\n",
    "print(f\"Recall: {recall_dec}\")\n",
    "print(f\"F1 Score: {f1_dec}\")\n",
    "#print(f\"Confusion Matrix:\\n{cm_dec}\")\n",
    "print(r)\n"
   ]
  },
  {
   "cell_type": "code",
   "execution_count": 508,
   "metadata": {},
   "outputs": [
    {
     "name": "stdout",
     "output_type": "stream",
     "text": [
      "<class 'pandas.core.frame.DataFrame'>\n",
      "RangeIndex: 494021 entries, 0 to 494020\n",
      "Data columns (total 33 columns):\n",
      " #   Column                       Non-Null Count   Dtype  \n",
      "---  ------                       --------------   -----  \n",
      " 0   duration                     494021 non-null  int64  \n",
      " 1   protocol_type                494021 non-null  int64  \n",
      " 2   flag                         494021 non-null  int64  \n",
      " 3   src_bytes                    494021 non-null  int64  \n",
      " 4   dst_bytes                    494021 non-null  int64  \n",
      " 5   land                         494021 non-null  int64  \n",
      " 6   wrong_fragment               494021 non-null  int64  \n",
      " 7   urgent                       494021 non-null  int64  \n",
      " 8   hot                          494021 non-null  int64  \n",
      " 9   num_failed_logins            494021 non-null  int64  \n",
      " 10  logged_in                    494021 non-null  int64  \n",
      " 11  num_compromised              494021 non-null  int64  \n",
      " 12  root_shell                   494021 non-null  int64  \n",
      " 13  su_attempted                 494021 non-null  int64  \n",
      " 14  num_file_creations           494021 non-null  int64  \n",
      " 15  num_shells                   494021 non-null  int64  \n",
      " 16  num_access_files             494021 non-null  int64  \n",
      " 17  num_outbound_cmds            494021 non-null  int64  \n",
      " 18  is_host_login                494021 non-null  int64  \n",
      " 19  count                        494021 non-null  int64  \n",
      " 20  serror_rate                  494021 non-null  float64\n",
      " 21  rerror_rate                  494021 non-null  float64\n",
      " 22  same_srv_rate                494021 non-null  float64\n",
      " 23  diff_srv_rate                494021 non-null  float64\n",
      " 24  srv_diff_host_rate           494021 non-null  float64\n",
      " 25  dst_host_count               494021 non-null  int64  \n",
      " 26  dst_host_diff_srv_rate       494021 non-null  float64\n",
      " 27  dst_host_same_src_port_rate  494021 non-null  float64\n",
      " 28  dst_host_srv_diff_host_rate  494021 non-null  float64\n",
      " 29  target                       494021 non-null  object \n",
      " 30  Attack Type                  494021 non-null  object \n",
      " 31  Combined                     494021 non-null  object \n",
      " 32  Encoded                      494021 non-null  int32  \n",
      "dtypes: float64(8), int32(1), int64(21), object(3)\n",
      "memory usage: 122.5+ MB\n"
     ]
    }
   ],
   "source": [
    "df.info()"
   ]
  },
  {
   "cell_type": "code",
   "execution_count": 509,
   "metadata": {},
   "outputs": [],
   "source": [
    "#RandomForest\n",
    "from sklearn.ensemble import RandomForestClassifier"
   ]
  },
  {
   "cell_type": "code",
   "execution_count": 510,
   "metadata": {},
   "outputs": [],
   "source": [
    "clfr = RandomForestClassifier(n_estimators=100,max_depth=10,random_state=42)"
   ]
  },
  {
   "cell_type": "code",
   "execution_count": 511,
   "metadata": {},
   "outputs": [
    {
     "name": "stdout",
     "output_type": "stream",
     "text": [
      "Training time: 27.9190 seconds\n"
     ]
    }
   ],
   "source": [
    "start_time_train = time.time()\n",
    "clfr.fit(X_train, y_train)\n",
    "end_time_train = time.time()\n",
    "print(f\"Training time: {end_time_train - start_time_train:.4f} seconds\")"
   ]
  },
  {
   "cell_type": "code",
   "execution_count": 512,
   "metadata": {},
   "outputs": [
    {
     "name": "stdout",
     "output_type": "stream",
     "text": [
      "Prediction time on training data: 7.3904 seconds\n"
     ]
    }
   ],
   "source": [
    "start_time_pred_train = time.time()\n",
    "y_train_pred = clfr.predict(X_train)\n",
    "end_time_pred_train = time.time()\n",
    "print(f\"Prediction time on training data: {end_time_pred_train - start_time_pred_train:.4f} seconds\")"
   ]
  },
  {
   "cell_type": "code",
   "execution_count": 513,
   "metadata": {},
   "outputs": [
    {
     "name": "stdout",
     "output_type": "stream",
     "text": [
      "Prediction time on test data: 3.6318 seconds\n"
     ]
    }
   ],
   "source": [
    "start_time_pred_test = time.time()\n",
    "y_test_pred = clfr.predict(X_test)\n",
    "end_time_pred_test = time.time()\n",
    "print(f\"Prediction time on test data: {end_time_pred_test - start_time_pred_test:.4f} seconds\")"
   ]
  },
  {
   "cell_type": "code",
   "execution_count": 514,
   "metadata": {},
   "outputs": [
    {
     "name": "stdout",
     "output_type": "stream",
     "text": [
      "Train score is: 0.9994803531181834\n",
      "Test score is: 0.9992455237476001\n"
     ]
    }
   ],
   "source": [
    "# Train and Test scores\n",
    "print(\"Train score is:\", clfr.score(X_train, y_train))\n",
    "print(\"Test score is:\", clfr.score(X_test, y_test))"
   ]
  },
  {
   "cell_type": "code",
   "execution_count": 515,
   "metadata": {},
   "outputs": [
    {
     "name": "stdout",
     "output_type": "stream",
     "text": [
      "Precision: 0.9992\n",
      "Accuracy: 0.9992\n",
      "Recall: 0.9992\n",
      "F1 Score: 0.9992\n",
      "{'True Positives (TP)': 162305, 'True Negatives (TN)': 721, 'False Positives (FP)': 1, 'False Negatives (FN)': 0}\n"
     ]
    },
    {
     "name": "stderr",
     "output_type": "stream",
     "text": [
      "C:\\Users\\sreev\\AppData\\Local\\Packages\\PythonSoftwareFoundation.Python.3.11_qbz5n2kfra8p0\\LocalCache\\local-packages\\Python311\\site-packages\\sklearn\\metrics\\_classification.py:1531: UndefinedMetricWarning: Precision is ill-defined and being set to 0.0 in labels with no predicted samples. Use `zero_division` parameter to control this behavior.\n",
      "  _warn_prf(average, modifier, f\"{metric.capitalize()} is\", len(result))\n"
     ]
    }
   ],
   "source": [
    "# Calculate metrics\n",
    "precision_rand = precision_score(y_test, y_test_pred, average='weighted')\n",
    "accuracy_rand = accuracy_score(y_test, y_test_pred)\n",
    "recall_rand = recall_score(y_test, y_test_pred, average='weighted')\n",
    "f1_rand = f1_score(y_test, y_test_pred, average='weighted')\n",
    "cm_rand = confusion_matrix(y_test, y_test_pred)\n",
    "r = calculate_tp_tn_fp_fn(cm_rand)\n",
    "\n",
    "# Display results\n",
    "print(f\"Precision: {precision_rand:.4f}\")\n",
    "print(f\"Accuracy: {accuracy_rand:.4f}\")\n",
    "print(f\"Recall: {recall_rand:.4f}\")\n",
    "print(f\"F1 Score: {f1_rand:.4f}\")\n",
    "#print(f\"Confusion Matrix:\\n{cm_rand}\")\n",
    "print(r)"
   ]
  },
  {
   "cell_type": "code",
   "execution_count": 516,
   "metadata": {},
   "outputs": [
    {
     "name": "stdout",
     "output_type": "stream",
     "text": [
      "Requirement already satisfied: xgboost in c:\\users\\sreev\\appdata\\local\\packages\\pythonsoftwarefoundation.python.3.11_qbz5n2kfra8p0\\localcache\\local-packages\\python311\\site-packages (2.1.1)\n",
      "Requirement already satisfied: numpy in c:\\users\\sreev\\appdata\\local\\packages\\pythonsoftwarefoundation.python.3.11_qbz5n2kfra8p0\\localcache\\local-packages\\python311\\site-packages (from xgboost) (1.26.4)\n",
      "Requirement already satisfied: scipy in c:\\users\\sreev\\appdata\\local\\packages\\pythonsoftwarefoundation.python.3.11_qbz5n2kfra8p0\\localcache\\local-packages\\python311\\site-packages (from xgboost) (1.14.1)\n",
      "Note: you may need to restart the kernel to use updated packages.\n"
     ]
    },
    {
     "name": "stderr",
     "output_type": "stream",
     "text": [
      "\n",
      "[notice] A new release of pip is available: 24.0 -> 24.2\n",
      "[notice] To update, run: C:\\Users\\sreev\\AppData\\Local\\Microsoft\\WindowsApps\\PythonSoftwareFoundation.Python.3.11_qbz5n2kfra8p0\\python.exe -m pip install --upgrade pip\n"
     ]
    }
   ],
   "source": [
    "pip install xgboost\n"
   ]
  },
  {
   "cell_type": "code",
   "execution_count": 517,
   "metadata": {},
   "outputs": [],
   "source": [
    "import xgboost as xgb\n",
    "from sklearn.preprocessing import LabelEncoder\n",
    "\n",
    "# Initialize XGBoost Classifier (no need for use_label_encoder, it's deprecated)\n",
    "clfg = xgb.XGBClassifier(n_estimators=100, learning_rate=0.1, max_depth=6, eval_metric='mlogloss', random_state=42)\n",
    "\n",
    "# Encode target labels (y_train) from string to numeric\n",
    "label_encoder = LabelEncoder()\n",
    "y_train_encoded = label_encoder.fit_transform(y_train)\n",
    "y_test_encoded = label_encoder.transform(y_test) "
   ]
  },
  {
   "cell_type": "code",
   "execution_count": 518,
   "metadata": {},
   "outputs": [
    {
     "name": "stdout",
     "output_type": "stream",
     "text": [
      "Training time: 57.8549 seconds\n"
     ]
    }
   ],
   "source": [
    "import time\n",
    "\n",
    "# Record the start time for training\n",
    "start_time = time.time()\n",
    "# Train the model\n",
    "clfg.fit(X_train, y_train_encoded)\n",
    "end_time = time.time()\n",
    "print(f\"Training time: {end_time - start_time:.4f} seconds\")\n"
   ]
  },
  {
   "cell_type": "code",
   "execution_count": 519,
   "metadata": {},
   "outputs": [
    {
     "name": "stdout",
     "output_type": "stream",
     "text": [
      "Testing time: 1.2120 seconds\n"
     ]
    }
   ],
   "source": [
    "# Time the prediction process\n",
    "start_time = time.time()\n",
    "y_test_pred_xgb_encoded = clfg.predict(X_test)\n",
    "end_time = time.time()\n",
    "print(f\"Testing time: {end_time - start_time:.4f} seconds\")"
   ]
  },
  {
   "cell_type": "code",
   "execution_count": 520,
   "metadata": {},
   "outputs": [],
   "source": [
    "y_test_pred_xgb = label_encoder.inverse_transform(y_test_pred_xgb_encoded)"
   ]
  },
  {
   "cell_type": "code",
   "execution_count": 521,
   "metadata": {},
   "outputs": [
    {
     "name": "stderr",
     "output_type": "stream",
     "text": [
      "C:\\Users\\sreev\\AppData\\Local\\Packages\\PythonSoftwareFoundation.Python.3.11_qbz5n2kfra8p0\\LocalCache\\local-packages\\Python311\\site-packages\\sklearn\\metrics\\_classification.py:1531: UndefinedMetricWarning: Precision is ill-defined and being set to 0.0 in labels with no predicted samples. Use `zero_division` parameter to control this behavior.\n",
      "  _warn_prf(average, modifier, f\"{metric.capitalize()} is\", len(result))\n"
     ]
    },
    {
     "name": "stdout",
     "output_type": "stream",
     "text": [
      "Precision (XGBoost): 0.9997\n",
      "Accuracy (XGBoost): 0.9997\n",
      "Recall (XGBoost): 0.9997\n",
      "F1 Score (XGBoost): 0.9997\n",
      "{'True Positives (TP)': 162305, 'True Negatives (TN)': 722, 'False Positives (FP)': 0, 'False Negatives (FN)': 0}\n"
     ]
    }
   ],
   "source": [
    "# Calculate performance metrics\n",
    "precision_xgb = precision_score(y_test, y_test_pred_xgb, average='weighted')\n",
    "accuracy_xgb = accuracy_score(y_test, y_test_pred_xgb)\n",
    "recall_xgb = recall_score(y_test, y_test_pred_xgb, average='weighted')\n",
    "f1_xgb = f1_score(y_test, y_test_pred_xgb, average='weighted')\n",
    "cm_xgb = confusion_matrix(y_test, y_test_pred_xgb)\n",
    "\n",
    "# Assuming calculate_tp_tn_fp_fn function is defined to take confusion matrix as input\n",
    "r = calculate_tp_tn_fp_fn(cm_xgb)\n",
    "\n",
    "# Display results\n",
    "print(f\"Precision (XGBoost): {precision_xgb:.4f}\")\n",
    "print(f\"Accuracy (XGBoost): {accuracy_xgb:.4f}\")\n",
    "print(f\"Recall (XGBoost): {recall_xgb:.4f}\")\n",
    "print(f\"F1 Score (XGBoost): {f1_xgb:.4f}\")\n",
    "#print(f\"Confusion Matrix (XGBoost):\\n{cm_xgb}\")\n",
    "print(r)"
   ]
  },
  {
   "cell_type": "code",
   "execution_count": 522,
   "metadata": {},
   "outputs": [
    {
     "name": "stdout",
     "output_type": "stream",
     "text": [
      "╒═══════════════════╤════════════╤═════════════╤══════════╤════════════╕\n",
      "│ Model             │   Accuracy │   Precision │   Recall │   F1 Score │\n",
      "╞═══════════════════╪════════════╪═════════════╪══════════╪════════════╡\n",
      "│ Random Forest     │   0.999246 │    0.999177 │ 0.999246 │   0.999188 │\n",
      "├───────────────────┼────────────┼─────────────┼──────────┼────────────┤\n",
      "│ Decision Tree     │   0.986438 │    0.999177 │ 0.986438 │   0.981539 │\n",
      "├───────────────────┼────────────┼─────────────┼──────────┼────────────┤\n",
      "│ Naive Bayes       │   0.856766 │    0.991412 │ 0.856766 │   0.884911 │\n",
      "├───────────────────┼────────────┼─────────────┼──────────┼────────────┤\n",
      "│ Gradient Boosting │   0.999733 │    0.999736 │ 0.999736 │   0.999729 │\n",
      "╘═══════════════════╧════════════╧═════════════╧══════════╧════════════╛\n"
     ]
    }
   ],
   "source": [
    "from tabulate import tabulate\n",
    "\n",
    "# Data for all the models with precomputed values\n",
    "data = [\n",
    "    [\"Random Forest\",accuracy_rand,precision_rand,recall_rand,f1_rand],\n",
    "    [\"Decision Tree\",accuracy_dec,precision_rand,recall_dec,f1_dec],\n",
    "    [\"Naive Bayes\",accuracy_gaus,precision_gaus,recall_gaus,f1_gaus],\n",
    "    [\"Gradient Boosting\",precision_xgb,accuracy_xgb,recall_xgb,f1_xgb]\n",
    "]\n",
    "\n",
    "# Define column names\n",
    "col_names = [\"Model\", \"Accuracy\", \"Precision\", \"Recall\", \"F1 Score\"]\n",
    "\n",
    "# Print the table\n",
    "print(tabulate(data, headers=col_names, tablefmt=\"fancy_grid\"))\n"
   ]
  },
  {
   "cell_type": "code",
   "execution_count": 523,
   "metadata": {},
   "outputs": [
    {
     "name": "stdout",
     "output_type": "stream",
     "text": [
      "<class 'sklearn.ensemble._forest.RandomForestClassifier'> RandomForestClassifier(max_depth=10, random_state=42)\n",
      "<class 'xgboost.sklearn.XGBClassifier'> XGBClassifier(base_score=None, booster=None, callbacks=None,\n",
      "              colsample_bylevel=None, colsample_bynode=None,\n",
      "              colsample_bytree=None, device=None, early_stopping_rounds=None,\n",
      "              enable_categorical=False, eval_metric='mlogloss',\n",
      "              feature_types=None, gamma=None, grow_policy=None,\n",
      "              importance_type=None, interaction_constraints=None,\n",
      "              learning_rate=0.1, max_bin=None, max_cat_threshold=None,\n",
      "              max_cat_to_onehot=None, max_delta_step=None, max_depth=6,\n",
      "              max_leaves=None, min_child_weight=None, missing=nan,\n",
      "              monotone_constraints=None, multi_strategy=None, n_estimators=100,\n",
      "              n_jobs=None, num_parallel_tree=None, objective='multi:softprob', ...)\n",
      "<class 'sklearn.tree._classes.DecisionTreeClassifier'> DecisionTreeClassifier(criterion='entropy', max_depth=4)\n",
      "<class 'sklearn.naive_bayes.GaussianNB'> GaussianNB()\n"
     ]
    }
   ],
   "source": [
    "print(type(clfr), clfr)\n",
    "print(type(clfg), clfg)\n",
    "print(type(clfd), clfd)\n",
    "print(type(clfb), clfb)\n"
   ]
  },
  {
   "cell_type": "code",
   "execution_count": 524,
   "metadata": {},
   "outputs": [
    {
     "name": "stdout",
     "output_type": "stream",
     "text": [
      "Models saved successfully!\n"
     ]
    }
   ],
   "source": [
    "import joblib\n",
    "\n",
    "try:\n",
    "    # Save the trained models\n",
    "    joblib.dump(clfr, 'random_forest_model.pkl')\n",
    "    joblib.dump(clfg, 'gradient_boosting_model.pkl')\n",
    "    joblib.dump(clfd, 'decision_tree_model.pkl')\n",
    "    joblib.dump(clfb, 'naive_bayes_model.pkl')\n",
    "    print(\"Models saved successfully!\")\n",
    "except Exception as e:\n",
    "    print(f\"Error saving models: {e}\")\n"
   ]
  },
  {
   "cell_type": "code",
   "execution_count": null,
   "metadata": {},
   "outputs": [],
   "source": []
  }
 ],
 "metadata": {
  "kernelspec": {
   "display_name": "Python 3",
   "language": "python",
   "name": "python3"
  },
  "language_info": {
   "codemirror_mode": {
    "name": "ipython",
    "version": 3
   },
   "file_extension": ".py",
   "mimetype": "text/x-python",
   "name": "python",
   "nbconvert_exporter": "python",
   "pygments_lexer": "ipython3",
   "version": "3.11.9"
  }
 },
 "nbformat": 4,
 "nbformat_minor": 2
}
